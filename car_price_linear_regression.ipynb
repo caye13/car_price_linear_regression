{
  "cells": [
    {
      "cell_type": "code",
      "execution_count": null,
      "metadata": {
        "id": "rPGdfBzdvxwD"
      },
      "outputs": [],
      "source": [
        "import pandas as pd  \n",
        "import os\n",
        "\n",
        "# dataset private on google cloud\n",
        "# !wget\n",
        "import warnings\n",
        "warnings.filterwarnings(\"ignore\") "
      ]
    },
    {
      "cell_type": "code",
      "execution_count": null,
      "metadata": {
        "id": "mbwTcjiE4FGx"
      },
      "outputs": [],
      "source": [
        "data_path  = 'car_dekho.csv'\n",
        "car_data = pd.read_csv(data_path)"
      ]
    },
    {
      "cell_type": "code",
      "execution_count": null,
      "metadata": {
        "id": "l6Cu2xokskC9"
      },
      "outputs": [],
      "source": [
        "car_data.head() "
      ]
    },
    {
      "cell_type": "code",
      "execution_count": null,
      "metadata": {
        "id": "EHTwpnHHQnxE"
      },
      "outputs": [],
      "source": [
        "car_data[['Fuel_Type']].head()"
      ]
    },
    {
      "cell_type": "code",
      "execution_count": null,
      "metadata": {
        "id": "JC8uac8ML6dI"
      },
      "outputs": [],
      "source": [
        "car_data[['Car_Name']].head()"
      ]
    },
    {
      "cell_type": "code",
      "execution_count": null,
      "metadata": {
        "id": "I6ZmiHEQ08Pw"
      },
      "outputs": [],
      "source": [
        "print(len(car_data))"
      ]
    },
    {
      "cell_type": "code",
      "execution_count": null,
      "metadata": {
        "id": "fgIcWjsA71bH"
      },
      "outputs": [],
      "source": [
        "import seaborn as sns\n",
        "import matplotlib.pyplot as plt\n",
        "\n",
        "sns.scatterplot(x = 'Age', y = 'Selling_Price', data = car_data)"
      ]
    },
    {
      "cell_type": "code",
      "execution_count": null,
      "metadata": {
        "id": "rsl6jADc7FrR"
      },
      "outputs": [],
      "source": [
        "sns.catplot(x = 'Fuel_Type', y = 'Selling_Price', data = car_data, kind = 'swarm', s = 2)"
      ]
    },
    {
      "cell_type": "code",
      "execution_count": null,
      "metadata": {
        "id": "NruVse5ld7zL"
      },
      "outputs": [],
      "source": [
        "car_data.groupby(['Fuel_Type']).count()"
      ]
    },
    {
      "cell_type": "code",
      "execution_count": null,
      "metadata": {
        "id": "_A5hzFkXe-QA"
      },
      "outputs": [],
      "source": [
        "sns.scatterplot(x = 'Kms_Driven', y = 'Selling_Price', data = car_data);"
      ]
    },
    {
      "cell_type": "code",
      "execution_count": null,
      "metadata": {
        "id": "HNwBhZToA1AH"
      },
      "outputs": [],
      "source": [
        "sns.catplot(x = 'Seller_Type', y = 'Selling_Price', data = car_data, kind = 'swarm', s = 2)\n",
        "sns.catplot(x = 'Transmission', y = 'Selling_Price', data = car_data, kind = 'swarm', s = 2)"
      ]
    },
    {
      "cell_type": "code",
      "execution_count": null,
      "metadata": {
        "id": "AyUa0zil_Asb"
      },
      "outputs": [],
      "source": [
        "import sklearn\n",
        "from sklearn.linear_model import LinearRegression\n",
        "import numpy as np  \n",
        "\n",
        "X = car_data[['Age']]\n",
        "y = car_data[['Selling_Price']]"
      ]
    },
    {
      "cell_type": "code",
      "execution_count": null,
      "metadata": {
        "id": "JZX_6FZx6Ayu"
      },
      "outputs": [],
      "source": [
        "print(X)"
      ]
    },
    {
      "cell_type": "code",
      "execution_count": null,
      "metadata": {
        "id": "jL5y_eUE6CSM"
      },
      "outputs": [],
      "source": [
        "print(y)"
      ]
    },
    {
      "cell_type": "code",
      "execution_count": null,
      "metadata": {
        "id": "fAfxYqFB3LlE"
      },
      "outputs": [],
      "source": [
        "linear = LinearRegression()\n",
        "\n",
        "linear.fit(X, y)"
      ]
    },
    {
      "cell_type": "code",
      "execution_count": null,
      "metadata": {
        "cellView": "form",
        "id": "RReOkaEFpvjl"
      },
      "outputs": [],
      "source": [
        "import matplotlib.pyplot as plt\n",
        "\n",
        "y_pred = linear.predict(X)\n",
        "plt.plot(X, y_pred, color='red')\n",
        "\n",
        "plt.scatter(X, y)\n",
        "plt.xlabel('Age') \n",
        "plt.ylabel('Selling_Price (lakhs)')\n",
        "plt.show()"
      ]
    },
    {
      "cell_type": "code",
      "execution_count": null,
      "metadata": {
        "id": "eb33Iylem6cv"
      },
      "outputs": [],
      "source": [
        "print('Our m in lakhs/year: ', linear.coef_)"
      ]
    },
    {
      "cell_type": "code",
      "execution_count": null,
      "metadata": {
        "id": "VSZ7OYSeyQKB"
      },
      "outputs": [],
      "source": [
        "print('Our intercept b: ', linear.intercept_)"
      ]
    },
    {
      "cell_type": "code",
      "execution_count": null,
      "metadata": {
        "id": "aXzo-89QBtJY"
      },
      "outputs": [],
      "source": [
        "print('Our equation is Price = -0.42 lakhs/year * age + 6.89 lakhs')\n",
        "print('Therefore, our fair price is %0.2f lakhs'%(-0.42*6.0+6.89))"
      ]
    },
    {
      "cell_type": "code",
      "execution_count": null,
      "metadata": {
        "id": "vukhDq7PsV8X"
      },
      "outputs": [],
      "source": [
        "car_data['TransmissionNumber'] = car_data['Transmission'].replace({'Manual':1, 'Automatic':0})"
      ]
    },
    {
      "cell_type": "code",
      "execution_count": null,
      "metadata": {
        "id": "yS0heQCjrDdJ"
      },
      "outputs": [],
      "source": [
        "car_data.head()"
      ]
    },
    {
      "cell_type": "code",
      "execution_count": null,
      "metadata": {
        "id": "mvg2nPoU4Zak"
      },
      "outputs": [],
      "source": [
        "X_column = 'Age'\n",
        "X = car_data[[X_column]] \n",
        "y = car_data[['Selling_Price']]\n",
        "\n",
        "linear = LinearRegression()\n",
        "\n",
        "linear.fit(X,y)"
      ]
    },
    {
      "cell_type": "code",
      "execution_count": null,
      "metadata": {
        "cellView": "form",
        "id": "3SzJ11LM5WlX"
      },
      "outputs": [],
      "source": [
        "import matplotlib.pyplot as plt\n",
        "\n",
        "y_pred = linear.predict(X)\n",
        "plt.plot(X, y_pred, color='red')\n",
        "\n",
        "plt.scatter(X, y)\n",
        "plt.xlabel(X_column)\n",
        "plt.ylabel('Selling_Price (lakhs)')\n",
        "plt.show()"
      ]
    },
    {
      "cell_type": "code",
      "execution_count": null,
      "metadata": {
        "id": "Vv1sW8Cc1Ykc"
      },
      "outputs": [],
      "source": [
        "X = car_data[['Age', 'TransmissionNumber', 'Kms_Driven']]\n",
        "\n",
        "multiple = LinearRegression(fit_intercept = True, normalize = True)\n",
        "\n",
        "multiple.fit(X, y)"
      ]
    },
    {
      "cell_type": "code",
      "execution_count": null,
      "metadata": {
        "id": "VeC3cB2V2C-1"
      },
      "outputs": [],
      "source": [
        "print('Our single linear model had an R^2 of: %0.3f'%linear.score(car_data[[X_column]], y)) "
      ]
    },
    {
      "cell_type": "code",
      "execution_count": null,
      "metadata": {
        "id": "aWo3ld7S1m7i"
      },
      "outputs": [],
      "source": [
        "print('Our multiple linear model had an R^2 of: %0.3f'%multiple.score(X, y))"
      ]
    },
    {
      "cell_type": "code",
      "execution_count": null,
      "metadata": {
        "id": "H9AMZfrmDD49"
      },
      "outputs": [],
      "source": [
        "car_data['SellerNumber'] = car_data['Seller_Type'].replace({'Dealer':1, 'Individual':0})\n",
        "\n",
        "X = car_data[['Age', 'TransmissionNumber', 'Kms_Driven', 'SellerNumber']].values\n",
        "print(X.shape)\n",
        "\n",
        "multiple = LinearRegression(fit_intercept = True, normalize = True)\n",
        "\n",
        "multiple.fit(X, y)\n",
        "\n",
        "print('Our multiple linear model had an R^2 of: %0.3f'%multiple.score(X, y))"
      ]
    },
    {
      "cell_type": "code",
      "execution_count": null,
      "metadata": {
        "id": "lnlD1EUbEn_Q"
      },
      "outputs": [],
      "source": [
        "plt.plot([-5,15],[-5,15])\n",
        "plt.title(\"Predicted vs. Real Prices\")\n",
        "plt.xlabel(\"Real price\")\n",
        "plt.ylabel(\"Predicted price\")\n",
        "prediction = multiple.predict(X)\n",
        "plt.plot(y, prediction, '.')\n",
        "plt.show()"
      ]
    },
    {
      "cell_type": "code",
      "execution_count": null,
      "metadata": {
        "id": "A4TzF-AdYCAs"
      },
      "outputs": [],
      "source": [
        "pd.set_option('display.max_columns', 500)\n",
        "pd.set_option('display.width', 1000)\n",
        "\n",
        "car_data['Prediction'] = prediction\n",
        "print (car_data)"
      ]
    },
    {
      "cell_type": "code",
      "execution_count": null,
      "metadata": {
        "id": "fPQ6CuBOa7M_"
      },
      "outputs": [],
      "source": [
        "car_data['deal_score'] = car_data['Prediction']-car_data['Selling_Price']\n",
        "print (car_data)"
      ]
    },
    {
      "cell_type": "code",
      "execution_count": null,
      "metadata": {
        "id": "yRZn1kaAbins"
      },
      "outputs": [],
      "source": [
        "sorted_data = car_data.sort_values(\"deal_score\")\n",
        "best_deals = sorted_data.tail(10)\n",
        "most_overpriced = sorted_data.head(10)\n",
        "print (best_deals)\n",
        "print (most_overpriced)"
      ]
    },
    {
      "cell_type": "code",
      "execution_count": null,
      "metadata": {
        "id": "MxM-oK1xcjFX"
      },
      "outputs": [],
      "source": [
        "plt.plot([-5,15],[-5,15]) \n",
        "plt.title(\"Predicted vs. Real Prices\")\n",
        "plt.xlabel(\"Real price\")\n",
        "plt.ylabel(\"Predicted price\")\n",
        "plt.plot(car_data.Selling_Price,car_data.Prediction,'b.')\n",
        "plt.plot(best_deals.Selling_Price,best_deals.Prediction,'g.')\n",
        "plt.plot(most_overpriced.Selling_Price,most_overpriced.Prediction,'r.')\n",
        "plt.show()"
      ]
    }
  ],
  "metadata": {
    "colab": {
      "collapsed_sections": [
        "yILvpzZOgHVW"
      ],
      "name": "Linear_Regression_Solution.ipynb",
      "provenance": []
    },
    "kernelspec": {
      "display_name": "Python 3",
      "language": "python",
      "name": "python3"
    },
    "language_info": {
      "codemirror_mode": {
        "name": "ipython",
        "version": 3
      },
      "file_extension": ".py",
      "mimetype": "text/x-python",
      "name": "python",
      "nbconvert_exporter": "python",
      "pygments_lexer": "ipython3",
      "version": "3.6.8"
    }
  },
  "nbformat": 4,
  "nbformat_minor": 0
}
